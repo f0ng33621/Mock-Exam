{
  "cells": [
    {
      "cell_type": "markdown",
      "metadata": {
        "id": "view-in-github",
        "colab_type": "text"
      },
      "source": [
        "<a href=\"https://colab.research.google.com/github/f0ng33621/Mock-Exam/blob/main/Online_Answer_Sheet_.ipynb\" target=\"_parent\"><img src=\"https://colab.research.google.com/assets/colab-badge.svg\" alt=\"Open In Colab\"/></a>"
      ]
    },
    {
      "cell_type": "code",
      "execution_count": null,
      "metadata": {
        "id": "bR1l-hIAwKUe"
      },
      "outputs": [],
      "source": [
        "import pandas as pd #เป็นการเรียกใช้ Function ของ python ที่ชื่อ Pandas\n",
        "import matplotlib.pyplot as plt\n",
        "import datetime\n",
        "import csv \n",
        "from datetime import datetime, timezone, timedelta\n",
        "from csv import writer\n",
        "from csv import reader\n",
        "tz = timezone(timedelta(hours = 7)) #กำหนดค่า timezone ให้เป็นของประเทศไทย\n",
        "time = datetime.now(tz=tz) #กำหนด timezone โดยดึงจากบรรทัดที่ 5\n",
        "time = time.strftime(\"%c%7z\")"
      ]
    },
    {
      "cell_type": "markdown",
      "metadata": {
        "id": "bsv8jOkbyn3C"
      },
      "source": [
        "# หากท่านยังไม่มีไฟล์ HISTORY.csv **ให้กดลิ้งค์ต่อไปนี้** https://drive.google.com/file/d/1Xq2ec-RLERKgTPq1W9qtjHnRBodjvhO0/view?usp=sharing\n",
        "หลังจากกดเข้าไปท่านจะเห็นหน้าไฟล์ ให้ไปที่แถบด้านขวาบนจะเจอปุ่ม Add Shortcut to drive ให้กดลงไปและเลือกไปที่ My drive หลังจากนั้นให้กด Add Shortcut ท่านจะได้ไฟล์เป็นที่เรียบร้อยและสามารถสั่ง RUN โปรแกรมส่วนที่เหลือได้ทันที"
      ]
    },
    {
      "cell_type": "code",
      "execution_count": null,
      "metadata": {
        "colab": {
          "base_uri": "https://localhost:8080/"
        },
        "id": "hgcSWMm7LS4B",
        "outputId": "a53feeba-a144-40a2-a96a-7c82dfd1eb80"
      },
      "outputs": [
        {
          "name": "stdout",
          "output_type": "stream",
          "text": [
            "Mounted at /content/drive\n"
          ]
        }
      ],
      "source": [
        "from google.colab import drive\n",
        "drive.mount('/content/drive')\n",
        "path = \"/content/drive/My Drive/HISTORY.csv\"\n",
        "df = pd.read_csv(path, names = ['TestNo','D/M/Y','Username','Subject','Score','Percentage','ข้อที่ผิด'])"
      ]
    },
    {
      "cell_type": "code",
      "execution_count": null,
      "metadata": {
        "colab": {
          "base_uri": "https://localhost:8080/",
          "height": 237
        },
        "id": "mcqwHhF7ZPjL",
        "outputId": "03613827-fa4f-49f5-83c3-af63c05b98b7"
      },
      "outputs": [
        {
          "data": {
            "text/html": [
              "\n",
              "  <div id=\"df-cc1ab2c0-06a3-4277-b2ca-6206104e2656\">\n",
              "    <div class=\"colab-df-container\">\n",
              "      <div>\n",
              "<style scoped>\n",
              "    .dataframe tbody tr th:only-of-type {\n",
              "        vertical-align: middle;\n",
              "    }\n",
              "\n",
              "    .dataframe tbody tr th {\n",
              "        vertical-align: top;\n",
              "    }\n",
              "\n",
              "    .dataframe thead th {\n",
              "        text-align: right;\n",
              "    }\n",
              "</style>\n",
              "<table border=\"1\" class=\"dataframe\">\n",
              "  <thead>\n",
              "    <tr style=\"text-align: right;\">\n",
              "      <th></th>\n",
              "      <th>TestNo</th>\n",
              "      <th>D/M/Y</th>\n",
              "      <th>Username</th>\n",
              "      <th>Subject</th>\n",
              "      <th>Score</th>\n",
              "      <th>Percentage</th>\n",
              "      <th>ข้อที่ผิด</th>\n",
              "    </tr>\n",
              "  </thead>\n",
              "  <tbody>\n",
              "    <tr>\n",
              "      <th>0</th>\n",
              "      <td>None</td>\n",
              "      <td>None</td>\n",
              "      <td>None</td>\n",
              "      <td>None</td>\n",
              "      <td>None</td>\n",
              "      <td>None</td>\n",
              "      <td>None</td>\n",
              "    </tr>\n",
              "    <tr>\n",
              "      <th>1</th>\n",
              "      <td>3</td>\n",
              "      <td>Wed Feb 16 12:17:19 2022</td>\n",
              "      <td>F0ng</td>\n",
              "      <td>Eng</td>\n",
              "      <td>12</td>\n",
              "      <td>48</td>\n",
              "      <td>[6, 8, 9, 10, 11, 13, 16, 17, 20, 21, 22, 23, 25]</td>\n",
              "    </tr>\n",
              "    <tr>\n",
              "      <th>2</th>\n",
              "      <td>3</td>\n",
              "      <td>Wed Feb 16 12:17:19 2022</td>\n",
              "      <td>fong</td>\n",
              "      <td>Eng</td>\n",
              "      <td>18</td>\n",
              "      <td>72</td>\n",
              "      <td>[18, 19, 20, 21, 23, 24, 25]</td>\n",
              "    </tr>\n",
              "    <tr>\n",
              "      <th>3</th>\n",
              "      <td>3</td>\n",
              "      <td>Thu Feb 17 19:26:43 2022</td>\n",
              "      <td>BEiBEI</td>\n",
              "      <td>Eng</td>\n",
              "      <td>18</td>\n",
              "      <td>72</td>\n",
              "      <td>[18, 19, 20, 21, 22, 23, 25]</td>\n",
              "    </tr>\n",
              "    <tr>\n",
              "      <th>4</th>\n",
              "      <td>TEST3</td>\n",
              "      <td>Fri Feb 18 23:02:48 2022</td>\n",
              "      <td>praweenwat</td>\n",
              "      <td>Eng</td>\n",
              "      <td>15</td>\n",
              "      <td>60</td>\n",
              "      <td>[16, 17, 18, 19, 20, 21, 22, 23, 24, 25]</td>\n",
              "    </tr>\n",
              "    <tr>\n",
              "      <th>5</th>\n",
              "      <td>TEST3</td>\n",
              "      <td>Sat Feb 26 14:35:09 2022</td>\n",
              "      <td>para</td>\n",
              "      <td>Eng</td>\n",
              "      <td>10</td>\n",
              "      <td>40.0</td>\n",
              "      <td>[9, 12, 13, 14, 15, 16, 17, 18, 19, 20, 21, 22...</td>\n",
              "    </tr>\n",
              "  </tbody>\n",
              "</table>\n",
              "</div>\n",
              "      <button class=\"colab-df-convert\" onclick=\"convertToInteractive('df-cc1ab2c0-06a3-4277-b2ca-6206104e2656')\"\n",
              "              title=\"Convert this dataframe to an interactive table.\"\n",
              "              style=\"display:none;\">\n",
              "        \n",
              "  <svg xmlns=\"http://www.w3.org/2000/svg\" height=\"24px\"viewBox=\"0 0 24 24\"\n",
              "       width=\"24px\">\n",
              "    <path d=\"M0 0h24v24H0V0z\" fill=\"none\"/>\n",
              "    <path d=\"M18.56 5.44l.94 2.06.94-2.06 2.06-.94-2.06-.94-.94-2.06-.94 2.06-2.06.94zm-11 1L8.5 8.5l.94-2.06 2.06-.94-2.06-.94L8.5 2.5l-.94 2.06-2.06.94zm10 10l.94 2.06.94-2.06 2.06-.94-2.06-.94-.94-2.06-.94 2.06-2.06.94z\"/><path d=\"M17.41 7.96l-1.37-1.37c-.4-.4-.92-.59-1.43-.59-.52 0-1.04.2-1.43.59L10.3 9.45l-7.72 7.72c-.78.78-.78 2.05 0 2.83L4 21.41c.39.39.9.59 1.41.59.51 0 1.02-.2 1.41-.59l7.78-7.78 2.81-2.81c.8-.78.8-2.07 0-2.86zM5.41 20L4 18.59l7.72-7.72 1.47 1.35L5.41 20z\"/>\n",
              "  </svg>\n",
              "      </button>\n",
              "      \n",
              "  <style>\n",
              "    .colab-df-container {\n",
              "      display:flex;\n",
              "      flex-wrap:wrap;\n",
              "      gap: 12px;\n",
              "    }\n",
              "\n",
              "    .colab-df-convert {\n",
              "      background-color: #E8F0FE;\n",
              "      border: none;\n",
              "      border-radius: 50%;\n",
              "      cursor: pointer;\n",
              "      display: none;\n",
              "      fill: #1967D2;\n",
              "      height: 32px;\n",
              "      padding: 0 0 0 0;\n",
              "      width: 32px;\n",
              "    }\n",
              "\n",
              "    .colab-df-convert:hover {\n",
              "      background-color: #E2EBFA;\n",
              "      box-shadow: 0px 1px 2px rgba(60, 64, 67, 0.3), 0px 1px 3px 1px rgba(60, 64, 67, 0.15);\n",
              "      fill: #174EA6;\n",
              "    }\n",
              "\n",
              "    [theme=dark] .colab-df-convert {\n",
              "      background-color: #3B4455;\n",
              "      fill: #D2E3FC;\n",
              "    }\n",
              "\n",
              "    [theme=dark] .colab-df-convert:hover {\n",
              "      background-color: #434B5C;\n",
              "      box-shadow: 0px 1px 3px 1px rgba(0, 0, 0, 0.15);\n",
              "      filter: drop-shadow(0px 1px 2px rgba(0, 0, 0, 0.3));\n",
              "      fill: #FFFFFF;\n",
              "    }\n",
              "  </style>\n",
              "\n",
              "      <script>\n",
              "        const buttonEl =\n",
              "          document.querySelector('#df-cc1ab2c0-06a3-4277-b2ca-6206104e2656 button.colab-df-convert');\n",
              "        buttonEl.style.display =\n",
              "          google.colab.kernel.accessAllowed ? 'block' : 'none';\n",
              "\n",
              "        async function convertToInteractive(key) {\n",
              "          const element = document.querySelector('#df-cc1ab2c0-06a3-4277-b2ca-6206104e2656');\n",
              "          const dataTable =\n",
              "            await google.colab.kernel.invokeFunction('convertToInteractive',\n",
              "                                                     [key], {});\n",
              "          if (!dataTable) return;\n",
              "\n",
              "          const docLinkHtml = 'Like what you see? Visit the ' +\n",
              "            '<a target=\"_blank\" href=https://colab.research.google.com/notebooks/data_table.ipynb>data table notebook</a>'\n",
              "            + ' to learn more about interactive tables.';\n",
              "          element.innerHTML = '';\n",
              "          dataTable['output_type'] = 'display_data';\n",
              "          await google.colab.output.renderOutput(dataTable, element);\n",
              "          const docLink = document.createElement('div');\n",
              "          docLink.innerHTML = docLinkHtml;\n",
              "          element.appendChild(docLink);\n",
              "        }\n",
              "      </script>\n",
              "    </div>\n",
              "  </div>\n",
              "  "
            ],
            "text/plain": [
              "  TestNo  ...                                          ข้อที่ผิด\n",
              "0   None  ...                                               None\n",
              "1      3  ...  [6, 8, 9, 10, 11, 13, 16, 17, 20, 21, 22, 23, 25]\n",
              "2      3  ...                       [18, 19, 20, 21, 23, 24, 25]\n",
              "3      3  ...                       [18, 19, 20, 21, 22, 23, 25]\n",
              "4  TEST3  ...           [16, 17, 18, 19, 20, 21, 22, 23, 24, 25]\n",
              "5  TEST3  ...  [9, 12, 13, 14, 15, 16, 17, 18, 19, 20, 21, 22...\n",
              "\n",
              "[6 rows x 7 columns]"
            ]
          },
          "execution_count": 3,
          "metadata": {},
          "output_type": "execute_result"
        }
      ],
      "source": [
        "#df = pd.read_csv(\"HISTORY.csv\") #ไปดึง Pandas ที่เป็นคำสั่ง read file csv แล้วเราก็แปะไฟล์ไว้แล้ว\n",
        "df #Show ให้เช็คความถูกต้องของข้อมูลก่อน"
      ]
    },
    {
      "cell_type": "markdown",
      "metadata": {
        "id": "6iIHLFIkmMWS"
      },
      "source": [
        "PART INPUT"
      ]
    },
    {
      "cell_type": "code",
      "execution_count": null,
      "metadata": {
        "id": "v3rgknKp6Bb6"
      },
      "outputs": [],
      "source": [
        "while True :\n",
        "  Username = str(input('ใส่ชื่อของท่านหรือสิ่งที่สามารถแสดงตัวตนของท่านได้ : '))\n",
        "  Book_Name = str(input(\"กรุณาใส่ชื่อหนังสือที่ต้องการทำแบบทดสอบ : \"))\n",
        "  Book_Name = Book_Name.upper().replace(\" \",\"\") #error 500 = ERROR500 จัดข้อมูลให้ง่ายต่อการใช้งาน\n",
        "  \n",
        "  if Book_Name == \"ERROR500\":\n",
        "    print(\"คุณได้เลือก : ERROR 500\")\n",
        "    Subject = 'Eng'\n",
        "    Book_Page = str(input(\"กรุณาใส่ชุดหรือหน้าที่ต้องการทำแบบทดสอบ : \"))\n",
        "    Book_Page = Book_Page.upper().replace(\" \",\"\")\n",
        "    Book_Page_Data = ('3','TEST3','ชุดที่3') #ตั้งเป็น Tuple ข้อมูลไว้\n",
        "    if Book_Page in Book_Page_Data : #เช็คว่า Bookpage มีอยู่ใน Bookpagedata หรือเปล่า\n",
        "      Count = 1\n",
        "      UserAns = [] #LIST\n",
        "      BookAns = () #TUPLE เดี๋ยวมาเปลี่ยนเป็น Dict ?!!!\n",
        "      while Count <= 25 :\n",
        "        RawAns = str(input('ข้อที่'+str(Count)+' คำตอบของท่าน : '))\n",
        "        RawAns = RawAns.upper()\n",
        "        UserAns.append(RawAns)\n",
        "        Count += 1\n",
        "    else:\n",
        "      print(\"ไม่พบข้อมูลชุดหรือหน้าที่คุณต้องการทำ\")\n",
        "    break\n",
        "  \n",
        "  elif Book_Name == \"VOCAB1000\":\n",
        "    print(\"คุณได้เลือก : VOCAB 1000\")\n",
        "    Subject = 'Eng'\n",
        "    Book_Page = str(input(\"กรุณาใส่ชุดหรือหน้าที่ต้องการทำแบบทดสอบ : \"))\n",
        "    Book_Page = Book_Page.upper().replace(\" \",\"\")\n",
        "    Book_Page_Data = ('3','TEST3','ชุดที่3')\n",
        "    if Book_Page in Book_Page_Data :\n",
        "      Count = 1\n",
        "      UserAns = []\n",
        "      BookAns = () \n",
        "      while Count <= 25 :\n",
        "        RawAns = str(input('ข้อที่'+str(Count)+' คำตอบของท่าน : '))\n",
        "        RawAns = RawAns.upper()\n",
        "        UserAns.append(RawAns)\n",
        "        Count += 1\n",
        "    else:\n",
        "      print(\"ไม่พบข้อมูลชุดหรือหน้าที่คุณต้องการทำ\")\n",
        "    break\n",
        "        \n",
        "  else:\n",
        "    print('ไม่พบข้อมูลหนังสือ กรุณาใส่ใหม่อีกครั้ง')"
      ]
    },
    {
      "cell_type": "markdown",
      "metadata": {
        "id": "34fjzfpcGQbh"
      },
      "source": [
        "PART CHECK SCORE"
      ]
    },
    {
      "cell_type": "code",
      "execution_count": null,
      "metadata": {
        "colab": {
          "base_uri": "https://localhost:8080/"
        },
        "id": "TexG_W-ie5YK",
        "outputId": "7ec59e41-07ee-4674-f82b-7ad0d6e33bd0"
      },
      "outputs": [
        {
          "name": "stdout",
          "output_type": "stream",
          "text": [
            "คะแนนที่คุณได้ : 10 / 25\n",
            "คิดเป็น % ได้ : 40.0 %\n",
            "ข้อที่ทำผิดมีดังนี้ : [9, 12, 13, 14, 15, 16, 17, 18, 19, 20, 21, 22, 23, 24, 25]\n"
          ]
        }
      ],
      "source": [
        "BookAns = ('A', 'B', 'C', 'C', 'C', 'A', 'A', 'C', 'D', 'C', 'D', 'B', 'B', 'B', 'A', 'B', 'B', 'B', 'C', 'C', 'C', 'D', 'A', 'A', 'C') #TUPLE\n",
        "Count_Check = 0\n",
        "Total_Check = 0\n",
        "WrongAns_Check = [] # Output ข้อที่ผิดตามปกติ\n",
        "\n",
        "while Count_Check <= (len(UserAns)-1):  \n",
        "  if UserAns[Count_Check] == BookAns[Count_Check]: # เข้าถึงข้อมูลใน list ผ่านตัวเลขที่มาจาก Count_Check\n",
        "    Total_Check += 1\n",
        "  else:\n",
        "    WrongAns_Check.append(Count_Check+1) #+1 เพื่อให้กลับมานับตามปกติ จาก 0 ตามแบบของ list\n",
        "  Count_Check += 1\n",
        "\n",
        "print (\"คะแนนที่คุณได้ :\",Total_Check,\"/ 25\")\n",
        "Percentage = (Total_Check/25)*100\n",
        "print (\"คิดเป็น % ได้ :\",Percentage,\"%\")\n",
        "print (\"ข้อที่ทำผิดมีดังนี้ :\",WrongAns_Check)"
      ]
    },
    {
      "cell_type": "code",
      "execution_count": null,
      "metadata": {
        "colab": {
          "base_uri": "https://localhost:8080/"
        },
        "id": "mVOz-G4tQ9r7",
        "outputId": "befc599e-e513-4f3f-eda3-a6d29b671bd8"
      },
      "outputs": [
        {
          "name": "stdout",
          "output_type": "stream",
          "text": [
            "Drive already mounted at /content/drive; to attempt to forcibly remount, call drive.mount(\"/content/drive\", force_remount=True).\n"
          ]
        }
      ],
      "source": [
        "drive.mount('/content/drive')\n",
        "path = '/content/drive/MyDrive/HISTORY.csv'\n",
        "\n",
        "with open(path, 'a', encoding = 'utf-8-sig',newline=\"\") as file:\n",
        "  writer = csv.writer(file)\n",
        "  writer.writerow([Book_Page,time,Username,Subject,Total_Check,Percentage,WrongAns_Check])\n",
        "\n",
        "file.close()"
      ]
    },
    {
      "cell_type": "code",
      "execution_count": null,
      "metadata": {
        "colab": {
          "base_uri": "https://localhost:8080/"
        },
        "id": "jjDzG0UkheCq",
        "outputId": "2459c92b-0fa3-4e08-d463-f665db183589"
      },
      "outputs": [
        {
          "name": "stdout",
          "output_type": "stream",
          "text": [
            "Drive already mounted at /content/drive; to attempt to forcibly remount, call drive.mount(\"/content/drive\", force_remount=True).\n"
          ]
        }
      ],
      "source": [
        "from google.colab import drive\n",
        "drive.mount('/content/drive')\n",
        "path = \"/content/drive/My Drive/HISTORY.csv\"\n",
        "df = pd.read_csv(path, names = ['TestNo','D/M/Y','Username','Subject','Score','Percentage','ข้อที่ผิด'])"
      ]
    },
    {
      "cell_type": "markdown",
      "metadata": {
        "id": "uvGb1Nys6I26"
      },
      "source": [
        "# หากท่านยังไม่มีไฟล์ Writerinput_Error500.csv **ให้กดลิ้งค์ต่อไปนี้** https://drive.google.com/file/d/1BGgiUYKF0VczjVTAs5-hWCcXTtKMRBlH/view?usp=sharing\n",
        "หลังจากกดเข้าไปท่านจะเห็นหน้าไฟล์ ให้ไปที่แถบด้านขวาบนจะเจอปุ่ม Add Shortcut to drive ให้กดลงไปและเลือกไปที่ My drive หลังจากนั้นให้กด Add Shortcut ท่านจะได้ไฟล์เป็นที่เรียบร้อยและสามารถสั่ง RUN โปรแกรมส่วนที่เหลือได้ทันที"
      ]
    },
    {
      "cell_type": "code",
      "execution_count": null,
      "metadata": {
        "colab": {
          "base_uri": "https://localhost:8080/"
        },
        "id": "-3I4axfyX8k8",
        "outputId": "4baa835a-241a-4a6a-826f-c3da45d6c580"
      },
      "outputs": [
        {
          "name": "stdout",
          "output_type": "stream",
          "text": [
            "Drive already mounted at /content/drive; to attempt to forcibly remount, call drive.mount(\"/content/drive\", force_remount=True).\n"
          ]
        },
        {
          "data": {
            "text/plain": [
              "(25, 1)"
            ]
          },
          "execution_count": 17,
          "metadata": {},
          "output_type": "execute_result"
        }
      ],
      "source": [
        "from google.colab import drive\n",
        "\n",
        "drive.mount('/content/drive')\n",
        "\n",
        "path = \"/content/drive/My Drive/Writerinput_Error500.csv\" #ต้องโหลดลง drive ตัวเองก่อน\n",
        "Writerinput = pd.read_csv(path)\n",
        "Writerinput.shape"
      ]
    },
    {
      "cell_type": "code",
      "execution_count": null,
      "metadata": {
        "id": "l4DCWLfxJN3m"
      },
      "outputs": [],
      "source": [
        "#Writerinput"
      ]
    },
    {
      "cell_type": "code",
      "execution_count": null,
      "metadata": {
        "colab": {
          "base_uri": "https://localhost:8080/",
          "height": 237
        },
        "id": "z5To6vCk4dbb",
        "outputId": "5626634f-b108-44a1-94e2-e9e7575e4869"
      },
      "outputs": [
        {
          "data": {
            "text/html": [
              "\n",
              "  <div id=\"df-48b7325d-7156-4414-a59a-7a2135e4975f\">\n",
              "    <div class=\"colab-df-container\">\n",
              "      <div>\n",
              "<style scoped>\n",
              "    .dataframe tbody tr th:only-of-type {\n",
              "        vertical-align: middle;\n",
              "    }\n",
              "\n",
              "    .dataframe tbody tr th {\n",
              "        vertical-align: top;\n",
              "    }\n",
              "\n",
              "    .dataframe thead th {\n",
              "        text-align: right;\n",
              "    }\n",
              "</style>\n",
              "<table border=\"1\" class=\"dataframe\">\n",
              "  <thead>\n",
              "    <tr style=\"text-align: right;\">\n",
              "      <th></th>\n",
              "      <th>TestNo</th>\n",
              "      <th>D/M/Y</th>\n",
              "      <th>Username</th>\n",
              "      <th>Subject</th>\n",
              "      <th>Score</th>\n",
              "      <th>Percentage</th>\n",
              "      <th>ข้อที่ผิด</th>\n",
              "    </tr>\n",
              "  </thead>\n",
              "  <tbody>\n",
              "    <tr>\n",
              "      <th>0</th>\n",
              "      <td>None</td>\n",
              "      <td>None</td>\n",
              "      <td>None</td>\n",
              "      <td>None</td>\n",
              "      <td>None</td>\n",
              "      <td>None</td>\n",
              "      <td>None</td>\n",
              "    </tr>\n",
              "    <tr>\n",
              "      <th>1</th>\n",
              "      <td>3</td>\n",
              "      <td>Wed Feb 16 12:17:19 2022</td>\n",
              "      <td>F0ng</td>\n",
              "      <td>Eng</td>\n",
              "      <td>12</td>\n",
              "      <td>48</td>\n",
              "      <td>[6, 8, 9, 10, 11, 13, 16, 17, 20, 21, 22, 23, 25]</td>\n",
              "    </tr>\n",
              "    <tr>\n",
              "      <th>2</th>\n",
              "      <td>3</td>\n",
              "      <td>Wed Feb 16 12:17:19 2022</td>\n",
              "      <td>fong</td>\n",
              "      <td>Eng</td>\n",
              "      <td>18</td>\n",
              "      <td>72</td>\n",
              "      <td>[18, 19, 20, 21, 23, 24, 25]</td>\n",
              "    </tr>\n",
              "    <tr>\n",
              "      <th>3</th>\n",
              "      <td>3</td>\n",
              "      <td>Thu Feb 17 19:26:43 2022</td>\n",
              "      <td>BEiBEI</td>\n",
              "      <td>Eng</td>\n",
              "      <td>18</td>\n",
              "      <td>72</td>\n",
              "      <td>[18, 19, 20, 21, 22, 23, 25]</td>\n",
              "    </tr>\n",
              "    <tr>\n",
              "      <th>4</th>\n",
              "      <td>TEST3</td>\n",
              "      <td>Fri Feb 18 23:02:48 2022</td>\n",
              "      <td>praweenwat</td>\n",
              "      <td>Eng</td>\n",
              "      <td>15</td>\n",
              "      <td>60</td>\n",
              "      <td>[16, 17, 18, 19, 20, 21, 22, 23, 24, 25]</td>\n",
              "    </tr>\n",
              "    <tr>\n",
              "      <th>5</th>\n",
              "      <td>TEST3</td>\n",
              "      <td>Sat Feb 26 14:35:09 2022</td>\n",
              "      <td>para</td>\n",
              "      <td>Eng</td>\n",
              "      <td>10</td>\n",
              "      <td>40.0</td>\n",
              "      <td>[9, 12, 13, 14, 15, 16, 17, 18, 19, 20, 21, 22...</td>\n",
              "    </tr>\n",
              "  </tbody>\n",
              "</table>\n",
              "</div>\n",
              "      <button class=\"colab-df-convert\" onclick=\"convertToInteractive('df-48b7325d-7156-4414-a59a-7a2135e4975f')\"\n",
              "              title=\"Convert this dataframe to an interactive table.\"\n",
              "              style=\"display:none;\">\n",
              "        \n",
              "  <svg xmlns=\"http://www.w3.org/2000/svg\" height=\"24px\"viewBox=\"0 0 24 24\"\n",
              "       width=\"24px\">\n",
              "    <path d=\"M0 0h24v24H0V0z\" fill=\"none\"/>\n",
              "    <path d=\"M18.56 5.44l.94 2.06.94-2.06 2.06-.94-2.06-.94-.94-2.06-.94 2.06-2.06.94zm-11 1L8.5 8.5l.94-2.06 2.06-.94-2.06-.94L8.5 2.5l-.94 2.06-2.06.94zm10 10l.94 2.06.94-2.06 2.06-.94-2.06-.94-.94-2.06-.94 2.06-2.06.94z\"/><path d=\"M17.41 7.96l-1.37-1.37c-.4-.4-.92-.59-1.43-.59-.52 0-1.04.2-1.43.59L10.3 9.45l-7.72 7.72c-.78.78-.78 2.05 0 2.83L4 21.41c.39.39.9.59 1.41.59.51 0 1.02-.2 1.41-.59l7.78-7.78 2.81-2.81c.8-.78.8-2.07 0-2.86zM5.41 20L4 18.59l7.72-7.72 1.47 1.35L5.41 20z\"/>\n",
              "  </svg>\n",
              "      </button>\n",
              "      \n",
              "  <style>\n",
              "    .colab-df-container {\n",
              "      display:flex;\n",
              "      flex-wrap:wrap;\n",
              "      gap: 12px;\n",
              "    }\n",
              "\n",
              "    .colab-df-convert {\n",
              "      background-color: #E8F0FE;\n",
              "      border: none;\n",
              "      border-radius: 50%;\n",
              "      cursor: pointer;\n",
              "      display: none;\n",
              "      fill: #1967D2;\n",
              "      height: 32px;\n",
              "      padding: 0 0 0 0;\n",
              "      width: 32px;\n",
              "    }\n",
              "\n",
              "    .colab-df-convert:hover {\n",
              "      background-color: #E2EBFA;\n",
              "      box-shadow: 0px 1px 2px rgba(60, 64, 67, 0.3), 0px 1px 3px 1px rgba(60, 64, 67, 0.15);\n",
              "      fill: #174EA6;\n",
              "    }\n",
              "\n",
              "    [theme=dark] .colab-df-convert {\n",
              "      background-color: #3B4455;\n",
              "      fill: #D2E3FC;\n",
              "    }\n",
              "\n",
              "    [theme=dark] .colab-df-convert:hover {\n",
              "      background-color: #434B5C;\n",
              "      box-shadow: 0px 1px 3px 1px rgba(0, 0, 0, 0.15);\n",
              "      filter: drop-shadow(0px 1px 2px rgba(0, 0, 0, 0.3));\n",
              "      fill: #FFFFFF;\n",
              "    }\n",
              "  </style>\n",
              "\n",
              "      <script>\n",
              "        const buttonEl =\n",
              "          document.querySelector('#df-48b7325d-7156-4414-a59a-7a2135e4975f button.colab-df-convert');\n",
              "        buttonEl.style.display =\n",
              "          google.colab.kernel.accessAllowed ? 'block' : 'none';\n",
              "\n",
              "        async function convertToInteractive(key) {\n",
              "          const element = document.querySelector('#df-48b7325d-7156-4414-a59a-7a2135e4975f');\n",
              "          const dataTable =\n",
              "            await google.colab.kernel.invokeFunction('convertToInteractive',\n",
              "                                                     [key], {});\n",
              "          if (!dataTable) return;\n",
              "\n",
              "          const docLinkHtml = 'Like what you see? Visit the ' +\n",
              "            '<a target=\"_blank\" href=https://colab.research.google.com/notebooks/data_table.ipynb>data table notebook</a>'\n",
              "            + ' to learn more about interactive tables.';\n",
              "          element.innerHTML = '';\n",
              "          dataTable['output_type'] = 'display_data';\n",
              "          await google.colab.output.renderOutput(dataTable, element);\n",
              "          const docLink = document.createElement('div');\n",
              "          docLink.innerHTML = docLinkHtml;\n",
              "          element.appendChild(docLink);\n",
              "        }\n",
              "      </script>\n",
              "    </div>\n",
              "  </div>\n",
              "  "
            ],
            "text/plain": [
              "  TestNo  ...                                          ข้อที่ผิด\n",
              "0   None  ...                                               None\n",
              "1      3  ...  [6, 8, 9, 10, 11, 13, 16, 17, 20, 21, 22, 23, 25]\n",
              "2      3  ...                       [18, 19, 20, 21, 23, 24, 25]\n",
              "3      3  ...                       [18, 19, 20, 21, 22, 23, 25]\n",
              "4  TEST3  ...           [16, 17, 18, 19, 20, 21, 22, 23, 24, 25]\n",
              "5  TEST3  ...  [9, 12, 13, 14, 15, 16, 17, 18, 19, 20, 21, 22...\n",
              "\n",
              "[6 rows x 7 columns]"
            ]
          },
          "execution_count": 5,
          "metadata": {},
          "output_type": "execute_result"
        }
      ],
      "source": [
        "df"
      ]
    },
    {
      "cell_type": "code",
      "execution_count": null,
      "metadata": {
        "colab": {
          "background_save": true,
          "base_uri": "https://localhost:8080/"
        },
        "id": "0162lsNFfhJ2",
        "outputId": "8b209d91-9b19-4adc-d3e7-d28672829353"
      },
      "outputs": [
        {
          "name": "stdout",
          "output_type": "stream",
          "text": [
            "TestNo                                           TEST3\n",
            "D/M/Y                         Fri Feb 18 23:02:48 2022\n",
            "Username                                    praweenwat\n",
            "Subject                                            Eng\n",
            "Score                                               15\n",
            "Percentage                                          60\n",
            "ข้อที่ผิด     [16, 17, 18, 19, 20, 21, 22, 23, 24, 25]\n",
            "Name: 4, dtype: object\n",
            "                                                เฉลย\n",
            "0  ตอบข้อ : A  วัดเรื่อง : noun  รายละเอียด : แก้...\n",
            "                                                เฉลย\n",
            "0  ตอบข้อ : A  วัดเรื่อง : noun  รายละเอียด : แก้...\n"
          ]
        }
      ],
      "source": [
        "Row_Want = int(input('กรุณาเลือกครั้งการทำที่คุณต้องการเข้าชม : '))\n",
        "\n",
        "print(df.iloc[Row_Want])\n",
        "\n",
        "while True :\n",
        "  User_Confuse = input('กรุณาใส่ข้อที่ท่านต้องการ (หากต้องการหยุดการทำงานพิมพ์ End): ')\n",
        "  User_Confuse = User_Confuse.upper().replace(\" \",\"\")\n",
        "  if User_Confuse == 'END':\n",
        "    print ('โปรแกรมสิ้นสุดการทำงานแล้ว')    \n",
        "    break\n",
        "    \n",
        "  else:\n",
        "    User_Confuse = int(User_Confuse)\n",
        "    User_Confuse = User_Confuse - 1\n",
        "    print(Writerinput.iloc[User_Confuse]) #จัด format"
      ]
    },
    {
      "cell_type": "code",
      "execution_count": null,
      "metadata": {
        "id": "cebqvtaDn3Ni"
      },
      "outputs": [],
      "source": [
        "# Book_Type = str(input(\"กรุณาใส่หมวดหมู่หรือวิชาที่คุณต้องการเข้าชม : \"))\n",
        "# Book_Type = Book_Type.capitalize().replace(\" \",\"\")\n",
        "\n",
        "\n",
        "# if Book_Type == 'เอาเทียบกับ df subject': #เอาเฉพาะคำว่า 'Eng'\n",
        "#   print(\"คุณได้เลือกหมวดหมู่ : Eng\")\n",
        "#   Book_Name_Check = str(input(\"กรุณาใส่ชื่อหนังสือที่คุณต้องการเข้าชม : \"))\n",
        "#   Book_Name_Check = Book_Name_Check.upper().replace(\" \",\"\")\n",
        "    \n",
        "#   if Book_Name_Check == 'ERROR500':\n",
        "#     print(\"คุณได้เลือก : ERROR 500\")\n",
        "#     Book_Page_Check = str(input(\"กรุณาใส่ชื่อชุดหรือหน้าที่คุณต้องการเข้าชม : \"))\n",
        "#     Book_Page_Check = Book_Page_Check.upper().replace(\" \",\"\")\n",
        "#     Book_Page_Data = ('3','TEST3','ชุดที่3')"
      ]
    },
    {
      "cell_type": "code",
      "execution_count": null,
      "metadata": {
        "id": "HCOvaDvSSVEA"
      },
      "outputs": [],
      "source": [
        "# # History หมวด/หนังสือ/ชุดที่(หน้า)/ครั้งที่ในการทำ/score+date/ดูข้อผิด(รายละเอียดบทที่ผิด)\n",
        "# #         Accurancy(เลือกตาม  1.หมวดเช่น Eng 2.หนังสือเช่น Error500 3.ชุดที่(หน้า)เช่น ชุดที่1 ทำไปแล้ว 2 ครั้งแยกครั้งให้ดูเทียบกัน) \n",
        "# #                   กดดู Accurancy ส่วนที่ผิด (Link หาดูข้อที่ผิดของบรรทัดที่ 1)\n",
        "\n",
        "# Book_Type = str(input(\"กรุณาใส่หมวดหมู่หรือวิชาที่คุณต้องการเข้าชม : \"))\n",
        "# Book_Type = Book_Type.upper().replace(\" \",\"\")\n",
        "\n",
        "# if Book_Type == 'ENG':\n",
        "#   print(\"คุณได้เลือกหมวดหมู่ : ENG\")\n",
        "#   Book_Name_Check = str(input(\"กรุณาใส่ชื่อหนังสือที่คุณต้องการเข้าชม : \"))\n",
        "#   Book_Name_Check = Book_Name_Check.upper().replace(\" \",\"\")\n",
        "  \n",
        "#   if Book_Name_Check == 'ERROR500':\n",
        "#     print(\"คุณได้เลือก : ERROR 500\")\n",
        "#     Book_Page_Check = str(input(\"กรุณาใส่ชื่อชุดหรือหน้าที่คุณต้องการเข้าชม : \"))\n",
        "#     Book_Page_Check = Book_Page_Check.upper().replace(\" \",\"\")\n",
        "#     Book_Page_Data = ('3','TEST3','ชุดที่3')\n",
        "    \n",
        "#     if Book_Page_Check in Book_Page_Data :\n",
        "#       No = 1 # *** สมมติไว้เฉยๆ ว่าเป็นข้อมูลชุดแรก เพื่อลอง run แต่จริงๆตัวนี้จะเป็นตัวที่ import จำนวนครั้งที่ได้ทำ STEP 1 *** !!!\n",
        "#       print(\"คุณได้ทำ TEST 3 ไปแล้ว\",No,\"ครั้ง\") # *** N ติดไว้ แทนจำนวนครั้งที่ได้ทำ STEP 1 *** / ข้อมูลของ STEP 2 !!!\n",
        "\n",
        "#       if No > 1:\n",
        "#         Book_round = str(input(\"กรุณาเลือกครั้งการทำที่คุณต้องการเข้าชม : \"))\n",
        "#       elif No == 1:\n",
        "#         print (\"เวลาที่ทำคือ\",\"Time_Date\") # Time_Date ติดไว้ แทนเวลาที่ได้ทำ STEP 1 ในครั้งนั้นๆ !!!\n",
        "#         print (\"คะแนนที่คุณได้ :\",Total_Check,\"/ 25\")\n",
        "#         print (\"ข้อที่ทำผิดมีดังนี้ :\",WrongAns_Check)\n",
        "#         while True :\n",
        "#           Choice_Check = int(input(\"กรุณาเลือกข้อที่ต้องการดูเฉลย : \"))\n",
        "#เปลี่ยนใหม่           if UserAns[Choice_Check-1] == BookAns[Choice_Check-1]: # -1 เพื่อให้แปลงเป็นตัวนับแบบ เริ่มที่ 0\n",
        "#             print(\"ข้อที่\",Choice_Check,\"คุณตอบ\",UserAns[Choice_Check-1],\"เป็นคำตอบที่ ถูกต้อง\")\n",
        "#           else:\n",
        "#             print(\"ข้อที่\",Choice_Check,\"คุณตอบ\",UserAns[Choice_Check-1],\"เป็นคำตอบที่ ผิด\")\n",
        "#           print(\"***Data ของ Choice_Check-1***\") # *** ติด data ของข้อที่ Choice_Check-1 ไว้ รอ import จากรายละเอียดหนังสือ *** !!!\n",
        "          \n",
        "#           Stop_Or_Not = str(input(\"ต้องการดูเฉลยข้ออื่นๆ ใช่หรือไม่ : \"))\n",
        "#           Stop_Or_Not = Stop_Or_Not.upper().replace(\" \",\"\")\n",
        "#           Continue_Data = ('ใช่','YES')\n",
        "#           Stop_Data = ('ไม่','NO')\n",
        "#           if Stop_Or_Not in Continue_Data:\n",
        "#             print(\"ไปลุยกันต่อเลย!\")\n",
        "#           elif Stop_Or_Not in Stop_Data:\n",
        "#             print(\"ไว้เจอกันใหม่น้า!\")\n",
        "#             break\n",
        "#           else:\n",
        "#             print(\"คำขอผิดพลาด\")\n",
        "\n",
        "#       else:\n",
        "#         print(\"ไม่พบข้อมูลครั้งการทำที่คุณต้องการเข้าชม\")\n",
        "#     else:\n",
        "#       print(\"ไม่พบข้อมูลชุดหรือหน้าที่คุณต้องการเข้าชม\")\n",
        "#   else:\n",
        "#     print('ไม่พบข้อมูลหนังสือที่คุณต้องการเข้าชม')\n",
        "# else:\n",
        "#   print('ไม่พบข้อมูลหมวดหมู่หรือวิชาที่คุณต้องการเข้าชม')"
      ]
    },
    {
      "cell_type": "code",
      "execution_count": null,
      "metadata": {
        "colab": {
          "base_uri": "https://localhost:8080/",
          "height": 312
        },
        "id": "Fn9hHc6RhAKD",
        "outputId": "6d96932f-4124-4ff9-cdc1-2ca9ed77e05e"
      },
      "outputs": [
        {
          "name": "stdout",
          "output_type": "stream",
          "text": [
            "Drive already mounted at /content/drive; to attempt to forcibly remount, call drive.mount(\"/content/drive\", force_remount=True).\n"
          ]
        },
        {
          "data": {
            "image/png": "[encoded data removed]",
            "text/plain": [
              "<Figure size 432x288 with 1 Axes>"
            ]
          },
          "metadata": {},
          "output_type": "display_data"
        }
      ],
      "source": [
        "import itertools\n",
        "import matplotlib.transforms as mtransforms\n",
        "import numpy as np\n",
        "\n",
        "drive.mount('/content/drive') \n",
        "path = '/content/drive/My Drive/HISTORY.csv'\n",
        "\n",
        "x = []\n",
        "y = []\n",
        "  \n",
        "with open(path,'r') as csvfile:\n",
        "    plots = csv.reader(csvfile, delimiter = ',')\n",
        "\n",
        "    for row in plots: #ให้ row แทนในบรรทัดของไฟล์ csv ถ้าหมดแล้วก็หยุด \n",
        "        x.append(str(row[2])) #เพิ่มคอลัมน์ 2 เข้าไปในลิสต์และเก็บค่าเป็น str\n",
        "        y.append(str(row[4])) # เหมือนกัน แต่เป็นตัวคะแนนเก็บเป็น str ไปใส่ในลิสต์\n",
        "x = x\n",
        "x.pop(0) #ลบค่าตำแหน่งที่ 0 ออกไป <--มันจะเป็น NONE พอดี\n",
        "y = y #กำหนดตัวแปรอีกครั้ง\n",
        "y.pop(0) #ลบค่าตำแหน่งที่ 0 ออกไป\n",
        "y = list(map(int, y)) #เป็นคำสั่งที่ทำให้เปลี่ยนตัวข้อมูลใน ลิสต์เป็น int\n",
        "plt.bar(x, y, color = '#22314e',width = 0.25 , label = \"Score\")\n",
        "plt.xlabel('USERNAME')\n",
        "plt.ylabel('Score')\n",
        "plt.title('Results')\n",
        "plt.yticks(range(1,27,2)) #กำหนดความถี่ของแถบ score ว่าได้กี่คะแนน\n",
        "plt.legend()\n",
        "plt.show()\n",
        "\n",
        "# มันจะเพิ่มต่อตูดตามที่ทำมา ซึ่ง ถ้าคะแนนไม่เท่า ยังไงเสียมันก็จะบวก 1 หน่วย"
      ]
    },
    {
      "cell_type": "code",
      "execution_count": null,
      "metadata": {
        "colab": {
          "base_uri": "https://localhost:8080/"
        },
        "id": "pej0_sob5LYj",
        "outputId": "d37a9952-d5c8-4d92-fe09-acbdfd25b0b7"
      },
      "outputs": [
        {
          "name": "stdout",
          "output_type": "stream",
          "text": [
            "/content\n",
            "['.config', 'drive', 'sample_data']\n"
          ]
        }
      ],
      "source": [
        "import os\n",
        "path = os.getcwd()\n",
        "print (path)\n",
        "filelist = str(os.listdir(path))\n",
        "print (filelist)\n",
        "#FOR TEST ONLY NA KRUB"
      ]
    },
    {
      "cell_type": "code",
      "execution_count": null,
      "metadata": {
        "id": "1pLNgZeW2_GV"
      },
      "outputs": [],
      "source": [
        "# บอก user ว่าข้อนั้นเป็นเรื่องเกี่ยวกับอะไร\n",
        "# Categories = {'1':'Noun','2':'Preposition','3':'Pronoun','4':'Parallel structure','5':'Verb',\n",
        "#               '6':'Preposition','7':'Verb','8':'Word choice','9':'Adjective','10':'Adverb','11':'Verb',\n",
        "#               '12':'Adverb clause','13':'Noun','14':'Parallel structure','15':'Noun','16':'Word form',\n",
        "#               '17':'Word order','18':'Word choice','19':'Word choice','20':'Verb','21':'Verb','22':'Parallel structure',\n",
        "#               '23':'Word form','24':'Noun','25':'Verb'}\n",
        "# while True:\n",
        "#   User_Want = input('ใส่ข้อที่คุณต้องการรู้หมวดหมู่ : ')\n",
        "#   if User_Want != 'end' :\n",
        "#    print (Categories.get(str(User_Want)))\n",
        "#   elif User_Want == 'end':\n",
        "#     break   #止まれ หยุดการทำงานของรูป\n",
        "#   else:\n",
        "#     True"
      ]
    },
    {
      "cell_type": "code",
      "execution_count": null,
      "metadata": {
        "id": "NuBmivDoih8I"
      },
      "outputs": [],
      "source": [
        "# #ให้ดึงข้อมูลจาก list wrong_ans เพื่อแสดงผลออกมาว่าข้อที่ผิดนั้นเป็นเนื้อหาเรือ่งใด\n",
        "# count_Wrong_Ans = 0 #ตั้งไว้นับใน loop\n",
        "# WRS_key = '0' #จริงๆต้องการให้ไม่มีค่าแต่กลัวใส่ None แล้วจะมีปัญหา\n",
        "# Categories = {'1':'Noun','2':'Preposition','3':'Pronoun','4':'Parallel structure','5':'Verb',\n",
        "#               '6':'Preposition','7':'Verb','8':'Word choice','9':'Adjective','10':'Adverb','11':'Verb',\n",
        "#               '12':'Adverb clause','13':'Noun','14':'Parallel structure','15':'Noun','16':'Word form',\n",
        "#               '17':'Word order','18':'Word choice','19':'Word choice','20':'Verb','21':'Verb','22':'Parallel structure',\n",
        "#               '23':'Word form','24':'Noun','25':'Verb'}\n",
        "# while count_Wrong_Ans < (len[WrongAns_Check]) :\n",
        "#   WrongAns_Check[count_Wrong_Ans] = WRS_key\n",
        "#   WRS_key = str(WRS_key)\n",
        "#   print (Categories.get(str(WRS_key)))\n",
        "#   count_Wrong_Ans += 1\n",
        "\n",
        "# print (\"จบการทำงานของฟังก์ชั่นนี้\")"
      ]
    },
    {
      "cell_type": "code",
      "execution_count": null,
      "metadata": {
        "id": "pjjC3a4FW6Nc"
      },
      "outputs": [],
      "source": [
        "# # เป้าหมาย \n",
        "\n",
        "# Discord = ('วันใดที่คุณล้มแสดงว่าคุณลื่น','') #ใส่คำพูดแรงจูงใจลงไปฝากเพิ่มด้วยนะคับ\n",
        "# Target = str(input('เลือกหัวข้อที่ต้องการ : '))\n",
        "# if Target == '':\n",
        "#   print ('คุณได้เลือก ')\n",
        "# elif Target == \"\":\n",
        "#   print ('คุณได้เลือก')\n",
        "# else:\n",
        "#   print ('ไม่มีข้อมูลที่ท่านต้องการหา')"
      ]
    }
  ],
  "metadata": {
    "colab": {
      "collapsed_sections": [],
      "name": "Online Answer Sheet .ipynb",
      "provenance": [],
      "include_colab_link": true
    },
    "kernelspec": {
      "display_name": "Python 3",
      "name": "python3"
    },
    "language_info": {
      "name": "python"
    }
  },
  "nbformat": 4,
  "nbformat_minor": 0
}